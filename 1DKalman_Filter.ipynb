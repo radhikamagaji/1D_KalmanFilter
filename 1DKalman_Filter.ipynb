{
  "nbformat": 4,
  "nbformat_minor": 0,
  "metadata": {
    "colab": {
      "name": "1DKalman Filter.ipynb",
      "provenance": [],
      "include_colab_link": true
    },
    "kernelspec": {
      "name": "python3",
      "display_name": "Python 3"
    },
    "language_info": {
      "name": "python"
    }
  },
  "cells": [
    {
      "cell_type": "markdown",
      "metadata": {
        "id": "view-in-github",
        "colab_type": "text"
      },
      "source": [
        "<a href=\"https://colab.research.google.com/github/akihdar/1D_KalmanFilter/blob/main/1DKalman_Filter.ipynb\" target=\"_parent\"><img src=\"https://colab.research.google.com/assets/colab-badge.svg\" alt=\"Open In Colab\"/></a>"
      ]
    },
    {
      "cell_type": "markdown",
      "source": [
        "## **Project Name: Predicting Pedestrian position using Kalman Filter**\n",
        "\n",
        "Team Members:  Radhika Magaji, Fidan Aydamirova, Jyothish Babu\n",
        "\n",
        "**Problem Statement:**\n",
        "\n",
        "*We want to predict the possible future positions of pedestrians. Predicting the motion of a group of pedestrians under vehicle influence is crucial for the development of autonomous vehicle. We want to develop a model that can describe the pedestrian’s motion under the influence of other nearby objects – vehicles and other pedestrians.* \n",
        "\n",
        "**Data:**\n",
        "\n",
        "*We are using the dataset collected at two crowded locations in the campus of Dalian University of Technology (DUT) in China.\n",
        "The trajectories of pedestrians were already extracted thru processing video frames that come from a down-facing camera mounted on a hovering drone as the recording equipment. For the sake of simplicity, we are using 1D Kalman filter and considering only the ‘x’ position of one pedestrian.*"
      ],
      "metadata": {
        "id": "DL-TQyoBqtKp"
      }
    },
    {
      "cell_type": "markdown",
      "source": [
        "We will consider a discrete-time $n$-dimensional linear dynamic system with state $\\mathbf{x}_k$ at time $k$ and observation $\\mathbf{y}_k$ at time $k$ that obey the following equations\n",
        "\n",
        "$$\\mathbf{x}_{k+1} = A_k\\mathbf{x}_{k} + B_k\\mathbf{u}_k + \\mathbf{w}_k$$\n",
        "$$\\mathbf{y}_k = C_k\\mathbf{x}_k + \\mathbf{v}_k$$\n",
        "\n",
        "with the following assumptions:\n",
        "\n",
        "1. $\\mathbf{x}_k \\in \\mathbb{R}^n$\n",
        "2. $\\mathbf{y}_k \\in \\mathbb{R}^m$\n",
        "3. The control signals $\\mathbf{u}_k \\in \\mathbb{R}^r$ are known.\n",
        "4. The disturbances $\\{\\mathbf{w}_k\\}$ and $\\{\\mathbf{v}_k\\}$ are zero-mean and uncorrelated across time and between each other at all times. The covariances at each time are known.\n",
        "5. The initial state $\\mathbf{x}_0$ is uncorrelated with the disturbances $\\{\\mathbf{w}_k\\}$ and $\\{\\mathbf{v}_k\\}$ for all time.\n",
        "6. The matrices $A_k \\in \\mathbb{R}^{n \\times n}$, $B_k \\in \\mathbb{R}^{n \\times r}$, and $C_k \\in \\mathbb{R}^{m \\times n}$ are known.\n",
        "\n",
        "\n",
        "---\n",
        "\n"
      ],
      "metadata": {
        "id": "T5C8ApJ4bL3C"
      }
    },
    {
      "cell_type": "markdown",
      "source": [
        "\n",
        "\n",
        "Suppose we have pedestrian moving in one dimension.\n",
        "The state $\\mathbf{x}_k$ in this problem could be taken to be the position $p_k$ and velocity $v_k$ of the object.\n",
        "\n",
        "$$\\mathbf{x}_k = \\begin{bmatrix}p_k \\\\ v_k\\end{bmatrix}$$\n",
        "\n",
        "We often create a discrete time dynamical model for situations like this by using approximations to continuous dynamics. Suppose $p(t)$, $v(t)$ and $a(t)$ are the position, velocity, and acceleration of the object at time $t$.\n",
        "\n",
        "We know that Taylor's theorem gives us the approximations\n",
        "\n",
        "\\begin{align}\n",
        "p(t + \\Delta t) &= p(t) + \\Delta tp'(t) + \\frac{1}{2}\\Delta t^2p''(t) + \\text{error} \\\\ \\\\\n",
        "&= p(t) + \\Delta tv(t) + \\frac{1}{2}\\Delta t^2a(t) + \\text{error}\n",
        "\\end{align}\n",
        "\n",
        "\\\\\n",
        "\n",
        "\\begin{align}\n",
        "v(t + \\Delta t) &= v(t) + \\Delta tv'(t) + \\text{error}  \\\\ \\\\\n",
        "&= v(t) + \\Delta ta(t) + \\text{error}\n",
        "\\end{align}\n",
        "\n",
        "\\\\\n",
        "\n",
        "We will assume here that the acceleration of the object $a(t)$ is known and is a constant.\n",
        "\n",
        "\\\\\n",
        "\n",
        "This motivates the discrete time dynamical system for the position and velocity of the object:\n",
        "\n",
        "$$\\mathbf{x}_{k+1} = \\begin{bmatrix}1 & \\Delta t\\\\ 0 & 1\\end{bmatrix}\\mathbf{x}_{k} + \\begin{bmatrix}\\frac{1}{2}\\Delta t^2\\\\ \\Delta t\\end{bmatrix}u_{k} + \\mathbf{w}_k$$\n",
        "\n",
        "where $u_{k} = a_{k}$ and $\\mathbf{w}_k$ is a noise term.\n",
        "\n",
        "\\\\\n",
        "\n",
        "The observation equation depends on what we assume that we can measure. If we assume that we can only measure a noisy version of the position, then the observation equation would be \n",
        "\n",
        "$$y_k = \\begin{bmatrix}1 & 0\\end{bmatrix}\\mathbf{x}_{k} + \\mathbf{v}_k$$\n",
        "where $\\mathbf{v}_k$ is a noise term.\n",
        "\n",
        "\\\\\n",
        "\n",
        "In this model, the matrices are constant and given by:\n",
        "\n",
        "$$A = \\begin{bmatrix}1 & \\Delta t\\\\ 0 & 1\\end{bmatrix}$$\n",
        "\n",
        "\\\\\n",
        "\n",
        "$$B = \\begin{bmatrix}\\frac{1}{2}\\Delta t^2\\\\ \\Delta t\\end{bmatrix}$$\n",
        "\n",
        "\\\\\n",
        "\n",
        "$$C = \\begin{bmatrix}1 & 0\\end{bmatrix}$$\n",
        "\n",
        "The noise terms are typically assumed to be independent across components. You can make reasonable guesses for the covariances and refine the guesses by fitting the parameters using observed data.\n",
        "\n",
        "\\\\\n",
        "\n",
        "We will implement this problem in Python below."
      ],
      "metadata": {
        "id": "UOehd1ezbNzP"
      }
    },
    {
      "cell_type": "markdown",
      "source": [
        "### Import libraries"
      ],
      "metadata": {
        "id": "4-W5tSe5iShB"
      }
    },
    {
      "cell_type": "code",
      "source": [
        "!pip install pykalman -q"
      ],
      "metadata": {
        "id": "0JashoIoTQmx"
      },
      "execution_count": null,
      "outputs": []
    },
    {
      "cell_type": "markdown",
      "source": [],
      "metadata": {
        "id": "Q-MVx5PxTnQ1"
      }
    },
    {
      "cell_type": "code",
      "execution_count": null,
      "metadata": {
        "id": "-Pipwd2TF_Cp"
      },
      "outputs": [],
      "source": [
        "import numpy as np\n",
        "import matplotlib.pyplot as plt\n",
        "import pandas as pd\n",
        "import math\n",
        "from scipy import stats, special\n",
        "import seaborn as sns \n",
        "sns.set_style(\"whitegrid\")\n",
        "from numpy.linalg import inv\n",
        "from pykalman import KalmanFilter"
      ]
    },
    {
      "cell_type": "markdown",
      "source": [
        "Data Pre-procesing"
      ],
      "metadata": {
        "id": "0ZOWgHe522Vt"
      }
    },
    {
      "cell_type": "code",
      "source": [
        "df = pd.read_csv(\"https://raw.githubusercontent.com/dongfang-steven-yang/vci-dataset-dut/master/data/trajectories/intersection_01_traj_ped.csv\")"
      ],
      "metadata": {
        "id": "TyfsVi7UGBhg"
      },
      "execution_count": null,
      "outputs": []
    },
    {
      "cell_type": "code",
      "source": [
        "df.head()"
      ],
      "metadata": {
        "colab": {
          "base_uri": "https://localhost:8080/",
          "height": 206
        },
        "id": "bEZkYCNZGDkL",
        "outputId": "43f27357-7571-4733-8d10-600d40b195d7"
      },
      "execution_count": null,
      "outputs": [
        {
          "output_type": "execute_result",
          "data": {
            "text/plain": [
              "   id           x           y  frame label\n",
              "0   0  155.508301  216.503662      1   ped\n",
              "1   1  170.502533  282.514343      1   ped\n",
              "2   2  231.519302  296.519135      1   ped\n",
              "3   3  230.501831  309.474335      1   ped\n",
              "4   4  290.475281  351.499176      1   ped"
            ],
            "text/html": [
              "\n",
              "  <div id=\"df-32b5a2ff-927f-4e8a-9d98-b1344689be55\">\n",
              "    <div class=\"colab-df-container\">\n",
              "      <div>\n",
              "<style scoped>\n",
              "    .dataframe tbody tr th:only-of-type {\n",
              "        vertical-align: middle;\n",
              "    }\n",
              "\n",
              "    .dataframe tbody tr th {\n",
              "        vertical-align: top;\n",
              "    }\n",
              "\n",
              "    .dataframe thead th {\n",
              "        text-align: right;\n",
              "    }\n",
              "</style>\n",
              "<table border=\"1\" class=\"dataframe\">\n",
              "  <thead>\n",
              "    <tr style=\"text-align: right;\">\n",
              "      <th></th>\n",
              "      <th>id</th>\n",
              "      <th>x</th>\n",
              "      <th>y</th>\n",
              "      <th>frame</th>\n",
              "      <th>label</th>\n",
              "    </tr>\n",
              "  </thead>\n",
              "  <tbody>\n",
              "    <tr>\n",
              "      <th>0</th>\n",
              "      <td>0</td>\n",
              "      <td>155.508301</td>\n",
              "      <td>216.503662</td>\n",
              "      <td>1</td>\n",
              "      <td>ped</td>\n",
              "    </tr>\n",
              "    <tr>\n",
              "      <th>1</th>\n",
              "      <td>1</td>\n",
              "      <td>170.502533</td>\n",
              "      <td>282.514343</td>\n",
              "      <td>1</td>\n",
              "      <td>ped</td>\n",
              "    </tr>\n",
              "    <tr>\n",
              "      <th>2</th>\n",
              "      <td>2</td>\n",
              "      <td>231.519302</td>\n",
              "      <td>296.519135</td>\n",
              "      <td>1</td>\n",
              "      <td>ped</td>\n",
              "    </tr>\n",
              "    <tr>\n",
              "      <th>3</th>\n",
              "      <td>3</td>\n",
              "      <td>230.501831</td>\n",
              "      <td>309.474335</td>\n",
              "      <td>1</td>\n",
              "      <td>ped</td>\n",
              "    </tr>\n",
              "    <tr>\n",
              "      <th>4</th>\n",
              "      <td>4</td>\n",
              "      <td>290.475281</td>\n",
              "      <td>351.499176</td>\n",
              "      <td>1</td>\n",
              "      <td>ped</td>\n",
              "    </tr>\n",
              "  </tbody>\n",
              "</table>\n",
              "</div>\n",
              "      <button class=\"colab-df-convert\" onclick=\"convertToInteractive('df-32b5a2ff-927f-4e8a-9d98-b1344689be55')\"\n",
              "              title=\"Convert this dataframe to an interactive table.\"\n",
              "              style=\"display:none;\">\n",
              "        \n",
              "  <svg xmlns=\"http://www.w3.org/2000/svg\" height=\"24px\"viewBox=\"0 0 24 24\"\n",
              "       width=\"24px\">\n",
              "    <path d=\"M0 0h24v24H0V0z\" fill=\"none\"/>\n",
              "    <path d=\"M18.56 5.44l.94 2.06.94-2.06 2.06-.94-2.06-.94-.94-2.06-.94 2.06-2.06.94zm-11 1L8.5 8.5l.94-2.06 2.06-.94-2.06-.94L8.5 2.5l-.94 2.06-2.06.94zm10 10l.94 2.06.94-2.06 2.06-.94-2.06-.94-.94-2.06-.94 2.06-2.06.94z\"/><path d=\"M17.41 7.96l-1.37-1.37c-.4-.4-.92-.59-1.43-.59-.52 0-1.04.2-1.43.59L10.3 9.45l-7.72 7.72c-.78.78-.78 2.05 0 2.83L4 21.41c.39.39.9.59 1.41.59.51 0 1.02-.2 1.41-.59l7.78-7.78 2.81-2.81c.8-.78.8-2.07 0-2.86zM5.41 20L4 18.59l7.72-7.72 1.47 1.35L5.41 20z\"/>\n",
              "  </svg>\n",
              "      </button>\n",
              "      \n",
              "  <style>\n",
              "    .colab-df-container {\n",
              "      display:flex;\n",
              "      flex-wrap:wrap;\n",
              "      gap: 12px;\n",
              "    }\n",
              "\n",
              "    .colab-df-convert {\n",
              "      background-color: #E8F0FE;\n",
              "      border: none;\n",
              "      border-radius: 50%;\n",
              "      cursor: pointer;\n",
              "      display: none;\n",
              "      fill: #1967D2;\n",
              "      height: 32px;\n",
              "      padding: 0 0 0 0;\n",
              "      width: 32px;\n",
              "    }\n",
              "\n",
              "    .colab-df-convert:hover {\n",
              "      background-color: #E2EBFA;\n",
              "      box-shadow: 0px 1px 2px rgba(60, 64, 67, 0.3), 0px 1px 3px 1px rgba(60, 64, 67, 0.15);\n",
              "      fill: #174EA6;\n",
              "    }\n",
              "\n",
              "    [theme=dark] .colab-df-convert {\n",
              "      background-color: #3B4455;\n",
              "      fill: #D2E3FC;\n",
              "    }\n",
              "\n",
              "    [theme=dark] .colab-df-convert:hover {\n",
              "      background-color: #434B5C;\n",
              "      box-shadow: 0px 1px 3px 1px rgba(0, 0, 0, 0.15);\n",
              "      filter: drop-shadow(0px 1px 2px rgba(0, 0, 0, 0.3));\n",
              "      fill: #FFFFFF;\n",
              "    }\n",
              "  </style>\n",
              "\n",
              "      <script>\n",
              "        const buttonEl =\n",
              "          document.querySelector('#df-32b5a2ff-927f-4e8a-9d98-b1344689be55 button.colab-df-convert');\n",
              "        buttonEl.style.display =\n",
              "          google.colab.kernel.accessAllowed ? 'block' : 'none';\n",
              "\n",
              "        async function convertToInteractive(key) {\n",
              "          const element = document.querySelector('#df-32b5a2ff-927f-4e8a-9d98-b1344689be55');\n",
              "          const dataTable =\n",
              "            await google.colab.kernel.invokeFunction('convertToInteractive',\n",
              "                                                     [key], {});\n",
              "          if (!dataTable) return;\n",
              "\n",
              "          const docLinkHtml = 'Like what you see? Visit the ' +\n",
              "            '<a target=\"_blank\" href=https://colab.research.google.com/notebooks/data_table.ipynb>data table notebook</a>'\n",
              "            + ' to learn more about interactive tables.';\n",
              "          element.innerHTML = '';\n",
              "          dataTable['output_type'] = 'display_data';\n",
              "          await google.colab.output.renderOutput(dataTable, element);\n",
              "          const docLink = document.createElement('div');\n",
              "          docLink.innerHTML = docLinkHtml;\n",
              "          element.appendChild(docLink);\n",
              "        }\n",
              "      </script>\n",
              "    </div>\n",
              "  </div>\n",
              "  "
            ]
          },
          "metadata": {},
          "execution_count": 4
        }
      ]
    },
    {
      "cell_type": "markdown",
      "source": [
        "Considering only one Pedestrain with id=1"
      ],
      "metadata": {
        "id": "Il25ZZbvqM_a"
      }
    },
    {
      "cell_type": "code",
      "source": [
        "df_ped1 = df[df['id'] == 1]\n",
        "df_ped1.head()"
      ],
      "metadata": {
        "colab": {
          "base_uri": "https://localhost:8080/",
          "height": 206
        },
        "id": "OPMuBeTFGFQX",
        "outputId": "6b745f0a-023f-459b-d532-ebe5f3b1141e"
      },
      "execution_count": null,
      "outputs": [
        {
          "output_type": "execute_result",
          "data": {
            "text/plain": [
              "    id           x           y  frame label\n",
              "1    1  170.502533  282.514343      1   ped\n",
              "12   1  171.628922  282.449738      2   ped\n",
              "23   1  173.096634  282.424194      3   ped\n",
              "34   1  173.536011  282.384369      4   ped\n",
              "45   1  175.343002  282.380249      5   ped"
            ],
            "text/html": [
              "\n",
              "  <div id=\"df-9d90ecb3-7b0c-4e14-bfec-1d9e57dfc13c\">\n",
              "    <div class=\"colab-df-container\">\n",
              "      <div>\n",
              "<style scoped>\n",
              "    .dataframe tbody tr th:only-of-type {\n",
              "        vertical-align: middle;\n",
              "    }\n",
              "\n",
              "    .dataframe tbody tr th {\n",
              "        vertical-align: top;\n",
              "    }\n",
              "\n",
              "    .dataframe thead th {\n",
              "        text-align: right;\n",
              "    }\n",
              "</style>\n",
              "<table border=\"1\" class=\"dataframe\">\n",
              "  <thead>\n",
              "    <tr style=\"text-align: right;\">\n",
              "      <th></th>\n",
              "      <th>id</th>\n",
              "      <th>x</th>\n",
              "      <th>y</th>\n",
              "      <th>frame</th>\n",
              "      <th>label</th>\n",
              "    </tr>\n",
              "  </thead>\n",
              "  <tbody>\n",
              "    <tr>\n",
              "      <th>1</th>\n",
              "      <td>1</td>\n",
              "      <td>170.502533</td>\n",
              "      <td>282.514343</td>\n",
              "      <td>1</td>\n",
              "      <td>ped</td>\n",
              "    </tr>\n",
              "    <tr>\n",
              "      <th>12</th>\n",
              "      <td>1</td>\n",
              "      <td>171.628922</td>\n",
              "      <td>282.449738</td>\n",
              "      <td>2</td>\n",
              "      <td>ped</td>\n",
              "    </tr>\n",
              "    <tr>\n",
              "      <th>23</th>\n",
              "      <td>1</td>\n",
              "      <td>173.096634</td>\n",
              "      <td>282.424194</td>\n",
              "      <td>3</td>\n",
              "      <td>ped</td>\n",
              "    </tr>\n",
              "    <tr>\n",
              "      <th>34</th>\n",
              "      <td>1</td>\n",
              "      <td>173.536011</td>\n",
              "      <td>282.384369</td>\n",
              "      <td>4</td>\n",
              "      <td>ped</td>\n",
              "    </tr>\n",
              "    <tr>\n",
              "      <th>45</th>\n",
              "      <td>1</td>\n",
              "      <td>175.343002</td>\n",
              "      <td>282.380249</td>\n",
              "      <td>5</td>\n",
              "      <td>ped</td>\n",
              "    </tr>\n",
              "  </tbody>\n",
              "</table>\n",
              "</div>\n",
              "      <button class=\"colab-df-convert\" onclick=\"convertToInteractive('df-9d90ecb3-7b0c-4e14-bfec-1d9e57dfc13c')\"\n",
              "              title=\"Convert this dataframe to an interactive table.\"\n",
              "              style=\"display:none;\">\n",
              "        \n",
              "  <svg xmlns=\"http://www.w3.org/2000/svg\" height=\"24px\"viewBox=\"0 0 24 24\"\n",
              "       width=\"24px\">\n",
              "    <path d=\"M0 0h24v24H0V0z\" fill=\"none\"/>\n",
              "    <path d=\"M18.56 5.44l.94 2.06.94-2.06 2.06-.94-2.06-.94-.94-2.06-.94 2.06-2.06.94zm-11 1L8.5 8.5l.94-2.06 2.06-.94-2.06-.94L8.5 2.5l-.94 2.06-2.06.94zm10 10l.94 2.06.94-2.06 2.06-.94-2.06-.94-.94-2.06-.94 2.06-2.06.94z\"/><path d=\"M17.41 7.96l-1.37-1.37c-.4-.4-.92-.59-1.43-.59-.52 0-1.04.2-1.43.59L10.3 9.45l-7.72 7.72c-.78.78-.78 2.05 0 2.83L4 21.41c.39.39.9.59 1.41.59.51 0 1.02-.2 1.41-.59l7.78-7.78 2.81-2.81c.8-.78.8-2.07 0-2.86zM5.41 20L4 18.59l7.72-7.72 1.47 1.35L5.41 20z\"/>\n",
              "  </svg>\n",
              "      </button>\n",
              "      \n",
              "  <style>\n",
              "    .colab-df-container {\n",
              "      display:flex;\n",
              "      flex-wrap:wrap;\n",
              "      gap: 12px;\n",
              "    }\n",
              "\n",
              "    .colab-df-convert {\n",
              "      background-color: #E8F0FE;\n",
              "      border: none;\n",
              "      border-radius: 50%;\n",
              "      cursor: pointer;\n",
              "      display: none;\n",
              "      fill: #1967D2;\n",
              "      height: 32px;\n",
              "      padding: 0 0 0 0;\n",
              "      width: 32px;\n",
              "    }\n",
              "\n",
              "    .colab-df-convert:hover {\n",
              "      background-color: #E2EBFA;\n",
              "      box-shadow: 0px 1px 2px rgba(60, 64, 67, 0.3), 0px 1px 3px 1px rgba(60, 64, 67, 0.15);\n",
              "      fill: #174EA6;\n",
              "    }\n",
              "\n",
              "    [theme=dark] .colab-df-convert {\n",
              "      background-color: #3B4455;\n",
              "      fill: #D2E3FC;\n",
              "    }\n",
              "\n",
              "    [theme=dark] .colab-df-convert:hover {\n",
              "      background-color: #434B5C;\n",
              "      box-shadow: 0px 1px 3px 1px rgba(0, 0, 0, 0.15);\n",
              "      filter: drop-shadow(0px 1px 2px rgba(0, 0, 0, 0.3));\n",
              "      fill: #FFFFFF;\n",
              "    }\n",
              "  </style>\n",
              "\n",
              "      <script>\n",
              "        const buttonEl =\n",
              "          document.querySelector('#df-9d90ecb3-7b0c-4e14-bfec-1d9e57dfc13c button.colab-df-convert');\n",
              "        buttonEl.style.display =\n",
              "          google.colab.kernel.accessAllowed ? 'block' : 'none';\n",
              "\n",
              "        async function convertToInteractive(key) {\n",
              "          const element = document.querySelector('#df-9d90ecb3-7b0c-4e14-bfec-1d9e57dfc13c');\n",
              "          const dataTable =\n",
              "            await google.colab.kernel.invokeFunction('convertToInteractive',\n",
              "                                                     [key], {});\n",
              "          if (!dataTable) return;\n",
              "\n",
              "          const docLinkHtml = 'Like what you see? Visit the ' +\n",
              "            '<a target=\"_blank\" href=https://colab.research.google.com/notebooks/data_table.ipynb>data table notebook</a>'\n",
              "            + ' to learn more about interactive tables.';\n",
              "          element.innerHTML = '';\n",
              "          dataTable['output_type'] = 'display_data';\n",
              "          await google.colab.output.renderOutput(dataTable, element);\n",
              "          const docLink = document.createElement('div');\n",
              "          docLink.innerHTML = docLinkHtml;\n",
              "          element.appendChild(docLink);\n",
              "        }\n",
              "      </script>\n",
              "    </div>\n",
              "  </div>\n",
              "  "
            ]
          },
          "metadata": {},
          "execution_count": 5
        }
      ]
    },
    {
      "cell_type": "code",
      "source": [
        "x_x = df_ped1['x']\n",
        "df_ped1.x.value_counts() # length of 262"
      ],
      "metadata": {
        "id": "fsK2_vXcGJGr",
        "colab": {
          "base_uri": "https://localhost:8080/"
        },
        "outputId": "76c146cb-4fa2-4cc0-c2a5-3ff0993fbbe7"
      },
      "execution_count": null,
      "outputs": [
        {
          "output_type": "execute_result",
          "data": {
            "text/plain": [
              "170.502533    1\n",
              "272.016754    1\n",
              "274.867310    1\n",
              "275.887238    1\n",
              "277.288361    1\n",
              "             ..\n",
              "242.436768    1\n",
              "242.856125    1\n",
              "243.634949    1\n",
              "243.396774    1\n",
              "405.704285    1\n",
              "Name: x, Length: 262, dtype: int64"
            ]
          },
          "metadata": {},
          "execution_count": 6
        }
      ]
    },
    {
      "cell_type": "markdown",
      "source": [
        "Length of data points for position x of the pedestrain is 262. (no. of steps = 262)"
      ],
      "metadata": {
        "id": "GWZpiVLpqgdx"
      }
    },
    {
      "cell_type": "markdown",
      "source": [
        "### Implementation"
      ],
      "metadata": {
        "id": "MidiQu7NiVgU"
      }
    },
    {
      "cell_type": "markdown",
      "source": [
        "#### Time"
      ],
      "metadata": {
        "id": "vrQq-zzpie_-"
      }
    },
    {
      "cell_type": "markdown",
      "source": [
        "Specify the parameters describing time in the simulation."
      ],
      "metadata": {
        "id": "oPA_89BhigGB"
      }
    },
    {
      "cell_type": "code",
      "source": [
        "#Number of time steps for 1 pedestrian\n",
        "n_timesteps = 262\n",
        "\n",
        "#Assume pedestrain takes 10 seconds to complete 262 steps\n",
        "dt = 10/n_timesteps \n",
        "\n",
        "#Time\n",
        "t = np.arange(n_timesteps)*dt"
      ],
      "metadata": {
        "id": "jKtJ12woGXl9"
      },
      "execution_count": null,
      "outputs": []
    },
    {
      "cell_type": "markdown",
      "source": [
        "#### Matrices"
      ],
      "metadata": {
        "id": "H-PNnwOEirHk"
      }
    },
    {
      "cell_type": "markdown",
      "source": [
        "Define the matrices $A$, $B$, and $C$."
      ],
      "metadata": {
        "id": "uP4WWcR-itKR"
      }
    },
    {
      "cell_type": "code",
      "source": [
        "# A is state transition matrix which applies the effect of each system state parameter\n",
        "A = np.array([[1, dt],\n",
        "             [0, 1]])\n",
        "\n",
        "# B is is the control input matrix which applies the effect of each control input parameter in the vector u on the state vector\n",
        "B = np.array([[0.5*dt**2],[dt]])\n",
        "\n",
        "# C is the vector of measurements\n",
        "C = np.array([[1, 0]])\n",
        "\n",
        "#Use these matrices to determine the dimensions of the state and observation vectors\n",
        "n_dim_state = A.shape[0]\n",
        "\n",
        "n_dim_obs = C.shape[0]"
      ],
      "metadata": {
        "id": "n-8-6ZCoHRUK"
      },
      "execution_count": null,
      "outputs": []
    },
    {
      "cell_type": "markdown",
      "source": [
        "### Control signal"
      ],
      "metadata": {
        "id": "bPl4vMlujPyp"
      }
    },
    {
      "cell_type": "markdown",
      "source": [
        "The control signal $u_k$ in this example is the acceleration. We will assume that the acceleration is constant."
      ],
      "metadata": {
        "id": "ftkiikO6jR0K"
      }
    },
    {
      "cell_type": "code",
      "source": [
        "u = 0.002*np.ones((1,n_timesteps))"
      ],
      "metadata": {
        "id": "9xvOjy27jdb5"
      },
      "execution_count": null,
      "outputs": []
    },
    {
      "cell_type": "markdown",
      "source": [
        "The `pykalman` code uses the notation $b_k = B_ku_k$, so we compute this for use in their code."
      ],
      "metadata": {
        "id": "7S29bYJli-x1"
      }
    },
    {
      "cell_type": "code",
      "source": [
        "b = np.matmul(B,u)"
      ],
      "metadata": {
        "id": "pWtkW1I-WJLx"
      },
      "execution_count": null,
      "outputs": []
    },
    {
      "cell_type": "markdown",
      "source": [
        "#### Noise distributions"
      ],
      "metadata": {
        "id": "nFa7SVeLvQC3"
      }
    },
    {
      "cell_type": "markdown",
      "source": [
        "Specify the parameters for the noise disturbance of the state. Assume a multivariate Gaussian distribution with zero mean."
      ],
      "metadata": {
        "id": "tbRitTDqvR2b"
      }
    },
    {
      "cell_type": "markdown",
      "source": [
        "Specify the parameters for the noise disturbance of the observation. Assume a Gaussian distribution with zero mean."
      ],
      "metadata": {
        "id": "6rKfGWonvbbO"
      }
    },
    {
      "cell_type": "code",
      "source": [
        "#Vector of mean values \n",
        "state_mean_vec = [0.0, 0.0]\n",
        "\n",
        "#Covariance matrix\n",
        "state_cov_matrix = [[40.0, 0.0], [0.0, 10.0]]"
      ],
      "metadata": {
        "id": "FDfcFkcGOugV"
      },
      "execution_count": null,
      "outputs": []
    },
    {
      "cell_type": "code",
      "source": [
        "#mean value\n",
        "obs_mean = 0.0\n",
        "\n",
        "#standard deviation\n",
        "obs_std = 16"
      ],
      "metadata": {
        "id": "YFbeMetZRkwb"
      },
      "execution_count": null,
      "outputs": []
    },
    {
      "cell_type": "markdown",
      "source": [
        "### Use the Kalman filter to estimate the states"
      ],
      "metadata": {
        "id": "sOjoFpaOy45K"
      }
    },
    {
      "cell_type": "markdown",
      "source": [
        "Create Observations : y"
      ],
      "metadata": {
        "id": "bFDY7L76wjtj"
      }
    },
    {
      "cell_type": "code",
      "source": [
        "#y holds the observation values\n",
        "y = np.array(x_x)"
      ],
      "metadata": {
        "id": "whcbAHkqwivk"
      },
      "execution_count": null,
      "outputs": []
    },
    {
      "cell_type": "markdown",
      "source": [
        "Define a Kalman filter object with the known properties of the system"
      ],
      "metadata": {
        "id": "64iNXnl6y77a"
      }
    },
    {
      "cell_type": "code",
      "source": [
        "kf = KalmanFilter(transition_matrices = A, observation_matrices = C, transition_covariance=state_cov_matrix, observation_covariance=obs_std**2, transition_offsets=b.T)"
      ],
      "metadata": {
        "id": "7TsrRQplTeM3"
      },
      "execution_count": null,
      "outputs": []
    },
    {
      "cell_type": "markdown",
      "source": [
        "Perform Kalman filter estimation"
      ],
      "metadata": {
        "id": "bqsh2-nOzAk3"
      }
    },
    {
      "cell_type": "code",
      "source": [
        "(filtered_state_means, filtered_state_covariances) = kf.filter(y)"
      ],
      "metadata": {
        "id": "_3abbVVCVhPi"
      },
      "execution_count": null,
      "outputs": []
    },
    {
      "cell_type": "markdown",
      "source": [
        "Plot the true states and the estimated values from the Kalman filter."
      ],
      "metadata": {
        "id": "JMzmESZok5yt"
      }
    },
    {
      "cell_type": "code",
      "source": [
        "#Plot position\n",
        "  \n",
        "plt.plot(t,y)\n",
        "plt.plot(t,filtered_state_means[:,0])\n",
        "\n",
        "plt.xlabel('time')\n",
        "plt.ylabel('position')\n",
        "plt.legend(['Observation y', 'Kalman filter estimate'])\n",
        "\n",
        "plt.xlim(xmin=7, xmax = 9)\n",
        "plt.ylim(ymin=300, ymax = 340)"
      ],
      "metadata": {
        "colab": {
          "base_uri": "https://localhost:8080/",
          "height": 300
        },
        "id": "wTxlXdivWv5J",
        "outputId": "762c3f0a-fb94-4a83-ad14-408e377d3f56"
      },
      "execution_count": null,
      "outputs": [
        {
          "output_type": "execute_result",
          "data": {
            "text/plain": [
              "(300.0, 340.0)"
            ]
          },
          "metadata": {},
          "execution_count": 16
        },
        {
          "output_type": "display_data",
          "data": {
            "text/plain": [
              "<Figure size 432x288 with 1 Axes>"
            ],
            "image/png": "[encoded data removed]"
          },
          "metadata": {}
        }
      ]
    },
    {
      "cell_type": "markdown",
      "source": [
        "The Kalman filter does a better job of estimating the position than the velocity. This makes sense because we observe a noisy version of the position, but we do not observe the velocity. "
      ],
      "metadata": {
        "id": "v3DdWcxkl5Ct"
      }
    },
    {
      "cell_type": "markdown",
      "source": [
        "### Learning model parameters"
      ],
      "metadata": {
        "id": "IFFFQStvzY6X"
      }
    },
    {
      "cell_type": "markdown",
      "source": [
        "Suppose that we only have guesses for the noise covariances."
      ],
      "metadata": {
        "id": "f9JYdxowhUaf"
      }
    },
    {
      "cell_type": "code",
      "source": [
        "state_cov_matrix_guess = [[1.0, 0.], [0., 1.0]]\n",
        "\n",
        "obs_std_guess = 16."
      ],
      "metadata": {
        "id": "mBK5FzvVhUaf"
      },
      "execution_count": null,
      "outputs": []
    },
    {
      "cell_type": "markdown",
      "source": [
        "We can define a `KalmanFilter` object with the guessed values and indicate that we want to use the EM algorithm to learn those parameters using `em_vars=['transition_covariance', 'observation_covariance']`"
      ],
      "metadata": {
        "id": "CBcKoOe5lFFo"
      }
    },
    {
      "cell_type": "code",
      "source": [
        "kf_learn = KalmanFilter(transition_matrices = A, observation_matrices = C, transition_covariance=state_cov_matrix_guess, observation_covariance=obs_std_guess**2, transition_offsets=b.T, em_vars=['transition_covariance', 'observation_covariance'])"
      ],
      "metadata": {
        "id": "rFZgh9R-hfJV"
      },
      "execution_count": null,
      "outputs": []
    },
    {
      "cell_type": "markdown",
      "source": [
        "Applying the method `.em` uses the EM algorithm to estimate those parameters based on the observed data."
      ],
      "metadata": {
        "id": "kUfCGVGmlYaO"
      }
    },
    {
      "cell_type": "code",
      "source": [
        "kf_learn = kf_learn.em(y, n_iter = 10)"
      ],
      "metadata": {
        "id": "tE4yg4srUsGD"
      },
      "execution_count": null,
      "outputs": []
    },
    {
      "cell_type": "markdown",
      "source": [
        "Compare the learned values to the true values. This is a difficult optimization problem, so the estimates will not be perfect."
      ],
      "metadata": {
        "id": "HSRCJCGyljCw"
      }
    },
    {
      "cell_type": "code",
      "source": [
        "print('EM estimate of state covariance = ', kf_learn.transition_covariance, '. True covariance = ', state_cov_matrix)"
      ],
      "metadata": {
        "colab": {
          "base_uri": "https://localhost:8080/"
        },
        "id": "ISFSrqsKU1Dh",
        "outputId": "165bfa6b-3da6-4da1-fb10-3c6f58665cbf"
      },
      "execution_count": null,
      "outputs": [
        {
          "output_type": "stream",
          "name": "stdout",
          "text": [
            "EM estimate of state covariance =  [[87.39677787 28.3546885 ]\n",
            " [28.3546885  10.42870394]] . True covariance =  [[40.0, 0.0], [0.0, 10.0]]\n"
          ]
        }
      ]
    },
    {
      "cell_type": "code",
      "source": [
        "print('EM estimate of observation variance = ', kf_learn.observation_covariance, '. True variance = ', obs_std**2)"
      ],
      "metadata": {
        "colab": {
          "base_uri": "https://localhost:8080/"
        },
        "id": "JM0jII_ZiuWd",
        "outputId": "838c8ec3-f789-4199-e4dc-9dc2cf3f5491"
      },
      "execution_count": null,
      "outputs": [
        {
          "output_type": "stream",
          "name": "stdout",
          "text": [
            "EM estimate of observation variance =  [[223.91757305]] . True variance =  256\n"
          ]
        }
      ]
    },
    {
      "cell_type": "markdown",
      "source": [
        "Use Estimated values to Update Kalman Filter"
      ],
      "metadata": {
        "id": "qq58g4MXJ94N"
      }
    },
    {
      "cell_type": "markdown",
      "source": [
        "Specify the parameters for the noise disturbance of the state. Assume a multivariate Gaussian distribution with zero mean."
      ],
      "metadata": {
        "id": "E5zg0TnKKCqW"
      }
    },
    {
      "cell_type": "code",
      "source": [
        "#Vector of mean values \n",
        "state_mean_vec = [0.0, 0.0]\n",
        "\n",
        "#Covariance matrix\n",
        "state_cov_matrix = kf_learn.transition_covariance"
      ],
      "metadata": {
        "id": "7qgNgD2bKGFT"
      },
      "execution_count": null,
      "outputs": []
    },
    {
      "cell_type": "markdown",
      "source": [
        "Specify the parameters for the noise disturbance of the observation. Assume a Gaussian distribution with zero mean."
      ],
      "metadata": {
        "id": "CnzaXgAVKI8b"
      }
    },
    {
      "cell_type": "code",
      "source": [
        "#mean value\n",
        "obs_mean = 0.0\n",
        "\n",
        "#standard deviation\n",
        "obs_std = np.sqrt(kf_learn.observation_covariance)"
      ],
      "metadata": {
        "id": "aUBZ727hKLG4"
      },
      "execution_count": null,
      "outputs": []
    },
    {
      "cell_type": "markdown",
      "source": [
        "**Use the Kalman Filter to estimate the states with the estimated optimal model parameters**\n",
        " \n",
        "\n"
      ],
      "metadata": {
        "id": "WDFPpBOeKPEi"
      }
    },
    {
      "cell_type": "markdown",
      "source": [
        "Define a Kalman filter object with the known properties of the system"
      ],
      "metadata": {
        "id": "jVXwBX8xxKlN"
      }
    },
    {
      "cell_type": "code",
      "source": [
        "kf = KalmanFilter(transition_matrices = A, observation_matrices = C, transition_covariance=state_cov_matrix, observation_covariance=obs_std**2, transition_offsets=b.T)"
      ],
      "metadata": {
        "id": "Cx8qyyxQKNpa"
      },
      "execution_count": null,
      "outputs": []
    },
    {
      "cell_type": "markdown",
      "source": [
        "Perform Kalman filter estimation"
      ],
      "metadata": {
        "id": "VjdPTahHKd02"
      }
    },
    {
      "cell_type": "code",
      "source": [
        "(filtered_state_means, filtered_state_covariances) = kf.filter(y)"
      ],
      "metadata": {
        "id": "gpaDAo73KgjN"
      },
      "execution_count": null,
      "outputs": []
    },
    {
      "cell_type": "markdown",
      "source": [
        "Plot the true states and the estimated values from the Kalman filter"
      ],
      "metadata": {
        "id": "s9ntC_xxxUFc"
      }
    },
    {
      "cell_type": "code",
      "source": [
        "#Plot position\n",
        "plt.plot(t,y)\n",
        "plt.plot(t,filtered_state_means[:,0])\n",
        "\n",
        "plt.xlabel('time')\n",
        "plt.ylabel('position')\n",
        "plt.legend(['Observation y', 'Kalman filter estimate'])\n",
        "\n",
        "plt.xlim(xmin=7, xmax = 9)\n",
        "plt.ylim(ymin=300, ymax = 340)"
      ],
      "metadata": {
        "colab": {
          "base_uri": "https://localhost:8080/",
          "height": 300
        },
        "id": "8yA3bNrdKjIn",
        "outputId": "7397cb2b-1899-4cb2-f0e2-28c1a3ca4d60"
      },
      "execution_count": null,
      "outputs": [
        {
          "output_type": "execute_result",
          "data": {
            "text/plain": [
              "(300.0, 340.0)"
            ]
          },
          "metadata": {},
          "execution_count": 26
        },
        {
          "output_type": "display_data",
          "data": {
            "text/plain": [
              "<Figure size 432x288 with 1 Axes>"
            ],
            "image/png": "[encoded data removed]"
          },
          "metadata": {}
        }
      ]
    },
    {
      "cell_type": "markdown",
      "source": [
        "With the optimal parameter estimates, the Kalman filter does a better job in the sense the estimates are near the observed values."
      ],
      "metadata": {
        "id": "SRTdUWZVxbqw"
      }
    },
    {
      "cell_type": "markdown",
      "source": [
        "**Predict future values**"
      ],
      "metadata": {
        "id": "cuGkx3KhL7UJ"
      }
    },
    {
      "cell_type": "code",
      "source": [
        "#Predicting the next 25 positions\n",
        "\n",
        "for n in range(25):\n",
        "  x_prev = filtered_state_means[-1]\n",
        "  x_next = np.matmul(A,x_prev) + b.T[-1]\n",
        "\n",
        "  filtered_state_means = np.vstack((filtered_state_means, x_next))"
      ],
      "metadata": {
        "id": "pdOcZzv6LZe4"
      },
      "execution_count": null,
      "outputs": []
    },
    {
      "cell_type": "code",
      "source": [
        "plt.figure(figsize = (20,7))\n",
        "\n",
        "# variable to store next steps\n",
        "t_25 = np.arange(n_timesteps + 25)*dt\n",
        "\n",
        "#Plot position\n",
        "\n",
        "plt.plot(t,y, 'orange')\n",
        "plt.plot(t_25,filtered_state_means[:,0], 'g--')\n",
        "\n",
        "# Set the labels, legends and title\n",
        "plt.xlabel('time in seconds')\n",
        "plt.ylabel('Position x', fontsize='18', color = 'black')\n",
        "plt.legend(['Observed values', 'Kalman filter estimate'])\n",
        "plt.title('Kalman Filter Prediction Position',  pad='4.0' , fontsize='20')\n",
        "\n",
        "# set x and y tick sizes\n",
        "plt.tick_params(axis='x', labelsize=12)\n",
        "plt.tick_params(axis='y', labelsize=12)\n",
        "\n",
        "#plt.xlim([8, 15])\n",
        "#plt.ylim([300, 450])"
      ],
      "metadata": {
        "colab": {
          "base_uri": "https://localhost:8080/",
          "height": 464
        },
        "id": "kVrmW5-PMuug",
        "outputId": "324b36bb-78c8-49cb-a90c-c52cad13c532"
      },
      "execution_count": null,
      "outputs": [
        {
          "output_type": "display_data",
          "data": {
            "text/plain": [
              "<Figure size 1440x504 with 1 Axes>"
            ],
            "image/png": "[encoded data removed]"
          },
          "metadata": {}
        }
      ]
    },
    {
      "cell_type": "markdown",
      "source": [
        "The predictions of the next 25 positions seems to increase with increase in time. Kalman filter does a good job at predicting the next 25 step position of the pedestrian."
      ],
      "metadata": {
        "id": "cakA1r-zyiS7"
      }
    },
    {
      "cell_type": "markdown",
      "source": [
        "**Conculsion**"
      ],
      "metadata": {
        "id": "oVHGDCzW4zcl"
      }
    },
    {
      "cell_type": "markdown",
      "source": [
        "Overall, the Kalman Filter does a good job at predicting the next steps of the pedestrain. We can improve our model by combing y coordinates to model a 2D Kalman filter. "
      ],
      "metadata": {
        "id": "0xtRu11A48fd"
      }
    }
  ]
}